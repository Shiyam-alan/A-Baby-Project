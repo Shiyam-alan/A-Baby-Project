{
 "cells": [
  {
   "cell_type": "markdown",
   "id": "1db96670-e13d-4ad1-a982-0254642536e4",
   "metadata": {},
   "source": [
    "All the Project has been added to the Github, with the 2nd branch merged with the first branch. There were no conflicts during merging."
   ]
  }
 ],
 "metadata": {
  "kernelspec": {
   "display_name": "Python 3 (ipykernel)",
   "language": "python",
   "name": "python3"
  },
  "language_info": {
   "codemirror_mode": {
    "name": "ipython",
    "version": 3
   },
   "file_extension": ".py",
   "mimetype": "text/x-python",
   "name": "python",
   "nbconvert_exporter": "python",
   "pygments_lexer": "ipython3",
   "version": "3.12.7"
  }
 },
 "nbformat": 4,
 "nbformat_minor": 5
}

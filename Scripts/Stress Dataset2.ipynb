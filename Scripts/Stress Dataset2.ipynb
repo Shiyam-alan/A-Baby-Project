{
 "cells": [
  {
   "cell_type": "code",
   "execution_count": 1,
   "id": "fa538c65-97f0-42c2-beb2-f8923ea2e5e8",
   "metadata": {},
   "outputs": [],
   "source": [
    "import pandas as pd"
   ]
  },
  {
   "cell_type": "code",
   "execution_count": 2,
   "id": "d8eb8e01-dec5-4e47-b6c5-252b4e20e92f",
   "metadata": {},
   "outputs": [],
   "source": [
    "stress_df = pd.read_csv(\"../Data/corporate_stress_dataset.csv\")"
   ]
  },
  {
   "cell_type": "code",
   "execution_count": 3,
   "id": "b0e2d0f9-9ed8-4724-be0c-3c1b2189a153",
   "metadata": {},
   "outputs": [],
   "source": [
    "satisfaction_df = pd.read_csv(\"../Data/Employee Satisfaction Index.csv\")"
   ]
  },
  {
   "cell_type": "code",
   "execution_count": 4,
   "id": "aa439564-445b-4e63-8cef-b12a9fa80cd1",
   "metadata": {},
   "outputs": [],
   "source": [
    "satisfaction_df.rename(columns={'Dept': 'Department'}, inplace=True)"
   ]
  },
  {
   "cell_type": "code",
   "execution_count": 5,
   "id": "1413a694-03a1-4c80-866f-1d596167f28a",
   "metadata": {},
   "outputs": [],
   "source": [
    "merged_df = pd.merge(stress_df, satisfaction_df, on='Department', how='inner')"
   ]
  },
  {
   "cell_type": "code",
   "execution_count": 6,
   "id": "57423494-b198-4204-a709-251cf6283063",
   "metadata": {},
   "outputs": [
    {
     "name": "stdout",
     "output_type": "stream",
     "text": [
      "   ID  Age      Gender Marital_Status   Job_Role  Experience_Years  \\\n",
      "0   1   56  Non-Binary        Widowed  Developer                 5   \n",
      "1   1   56  Non-Binary        Widowed  Developer                 5   \n",
      "2   1   56  Non-Binary        Widowed  Developer                 5   \n",
      "3   1   56  Non-Binary        Widowed  Developer                 5   \n",
      "4   1   56  Non-Binary        Widowed  Developer                 5   \n",
      "\n",
      "   Monthly_Salary_INR  Working_Hours_per_Week  Commute_Time_Hours  \\\n",
      "0           102703.08                      44                1.72   \n",
      "1           102703.08                      44                1.72   \n",
      "2           102703.08                      44                1.72   \n",
      "3           102703.08                      44                1.72   \n",
      "4           102703.08                      44                1.72   \n",
      "\n",
      "   Remote_Work  ...  location education recruitment_type job_level  rating  \\\n",
      "0         True  ...      City        UG          Walk-in         4       4   \n",
      "1         True  ...      City        PG        On-Campus         1       4   \n",
      "2         True  ...    Suburb        UG          Walk-in         4       3   \n",
      "3         True  ...    Suburb        UG         Referral         2       5   \n",
      "4         True  ...    Suburb        PG        On-Campus         1       2   \n",
      "\n",
      "   onsite  awards  certifications  salary  satisfied  \n",
      "0       1       6               0   65715          1  \n",
      "1       1       9               0   24076          0  \n",
      "2       1       8               0   65715          1  \n",
      "3       1       2               0   29805          1  \n",
      "4       1       9               0   24076          1  \n",
      "\n",
      "[5 rows x 43 columns]\n"
     ]
    }
   ],
   "source": [
    "print(merged_df.head())"
   ]
  },
  {
   "cell_type": "code",
   "execution_count": 7,
   "id": "373775cc-2268-428e-8d15-d82a59e8d27a",
   "metadata": {},
   "outputs": [
    {
     "name": "stdout",
     "output_type": "stream",
     "text": [
      "ID                                       0\n",
      "Age                                      0\n",
      "Gender                                   0\n",
      "Marital_Status                           0\n",
      "Job_Role                                 0\n",
      "Experience_Years                         0\n",
      "Monthly_Salary_INR                       0\n",
      "Working_Hours_per_Week                   0\n",
      "Commute_Time_Hours                       0\n",
      "Remote_Work                              0\n",
      "Stress_Level                             0\n",
      "Health_Issues                       607481\n",
      "Company_Size                             0\n",
      "Department                               0\n",
      "Sleep_Hours                              0\n",
      "Physical_Activity_Hours_per_Week         0\n",
      "Mental_Health_Leave_Taken                0\n",
      "Manager_Support_Level                    0\n",
      "Work_Pressure_Level                      0\n",
      "Annual_Leaves_Taken                      0\n",
      "Work_Life_Balance                        0\n",
      "Family_Support_Level                     0\n",
      "Job_Satisfaction                         0\n",
      "Performance_Rating                       0\n",
      "Team_Size                                0\n",
      "Training_Opportunities                   0\n",
      "Gender_Bias_Experienced                  0\n",
      "Discrimination_Experienced               0\n",
      "Burnout_Symptoms                         0\n",
      "Location                                 0\n",
      "Unnamed: 0                               0\n",
      "emp_id                                   0\n",
      "age                                      0\n",
      "location                                 0\n",
      "education                                0\n",
      "recruitment_type                         0\n",
      "job_level                                0\n",
      "rating                                   0\n",
      "onsite                                   0\n",
      "awards                                   0\n",
      "certifications                           0\n",
      "salary                                   0\n",
      "satisfied                                0\n",
      "dtype: int64\n"
     ]
    }
   ],
   "source": [
    "print(merged_df.isnull().sum())"
   ]
  },
  {
   "cell_type": "code",
   "execution_count": 8,
   "id": "1872f602-59bf-4eac-b58d-c85cf2616047",
   "metadata": {},
   "outputs": [],
   "source": [
    "merged_df.drop(columns=['Health_Issues', 'Unnamed: 0'], inplace=True)"
   ]
  },
  {
   "cell_type": "code",
   "execution_count": 9,
   "id": "900caf38-37e7-4873-be9e-e149a4b2b291",
   "metadata": {},
   "outputs": [
    {
     "name": "stdout",
     "output_type": "stream",
     "text": [
      "ID                                  0\n",
      "Age                                 0\n",
      "Gender                              0\n",
      "Marital_Status                      0\n",
      "Job_Role                            0\n",
      "Experience_Years                    0\n",
      "Monthly_Salary_INR                  0\n",
      "Working_Hours_per_Week              0\n",
      "Commute_Time_Hours                  0\n",
      "Remote_Work                         0\n",
      "Stress_Level                        0\n",
      "Company_Size                        0\n",
      "Department                          0\n",
      "Sleep_Hours                         0\n",
      "Physical_Activity_Hours_per_Week    0\n",
      "Mental_Health_Leave_Taken           0\n",
      "Manager_Support_Level               0\n",
      "Work_Pressure_Level                 0\n",
      "Annual_Leaves_Taken                 0\n",
      "Work_Life_Balance                   0\n",
      "Family_Support_Level                0\n",
      "Job_Satisfaction                    0\n",
      "Performance_Rating                  0\n",
      "Team_Size                           0\n",
      "Training_Opportunities              0\n",
      "Gender_Bias_Experienced             0\n",
      "Discrimination_Experienced          0\n",
      "Burnout_Symptoms                    0\n",
      "Location                            0\n",
      "emp_id                              0\n",
      "age                                 0\n",
      "location                            0\n",
      "education                           0\n",
      "recruitment_type                    0\n",
      "job_level                           0\n",
      "rating                              0\n",
      "onsite                              0\n",
      "awards                              0\n",
      "certifications                      0\n",
      "salary                              0\n",
      "satisfied                           0\n",
      "dtype: int64\n"
     ]
    }
   ],
   "source": [
    "print(merged_df.isnull().sum())"
   ]
  },
  {
   "cell_type": "code",
   "execution_count": 10,
   "id": "f8b79d7f-383c-4881-9bae-dcdd5722c753",
   "metadata": {},
   "outputs": [],
   "source": [
    "merged_df.to_csv(\"../Clean_Data/merged_dataset_cleaned.csv\", index=False)"
   ]
  },
  {
   "cell_type": "code",
   "execution_count": null,
   "id": "ac8c5f18-1e76-465c-9423-c0c2fd5aed96",
   "metadata": {},
   "outputs": [],
   "source": []
  }
 ],
 "metadata": {
  "kernelspec": {
   "display_name": "Python 3 (ipykernel)",
   "language": "python",
   "name": "python3"
  },
  "language_info": {
   "codemirror_mode": {
    "name": "ipython",
    "version": 3
   },
   "file_extension": ".py",
   "mimetype": "text/x-python",
   "name": "python",
   "nbconvert_exporter": "python",
   "pygments_lexer": "ipython3",
   "version": "3.12.7"
  }
 },
 "nbformat": 4,
 "nbformat_minor": 5
}

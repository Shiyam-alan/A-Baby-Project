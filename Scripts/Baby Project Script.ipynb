{
 "cells": [
  {
   "cell_type": "markdown",
   "id": "2dd4f429-7b58-48fd-96d3-192ad90879ba",
   "metadata": {},
   "source": [
    "# **Assignment 3: A Baby Project**\n",
    "### **-Shiyamalan Selvakumar**"
   ]
  },
  {
   "cell_type": "markdown",
   "id": "2a080847-037a-4ab5-a438-44e8d67c53c1",
   "metadata": {},
   "source": [
    "## ***IMPORTING FILES***"
   ]
  },
  {
   "cell_type": "code",
   "execution_count": 3,
   "id": "efce9992-c76f-486e-a90e-fa8ab396b411",
   "metadata": {},
   "outputs": [],
   "source": [
    "##Importing all the necessary functions\n",
    "import pandas as pd\n",
    "import matplotlib.pyplot as plt\n",
    "import seaborn as sns\n",
    "import re\n",
    "import numpy as np\n",
    "from datetime import datetime"
   ]
  },
  {
   "cell_type": "code",
   "execution_count": null,
   "id": "ed033879-d83d-4575-834e-d1f964d3bd91",
   "metadata": {},
   "outputs": [],
   "source": [
    "csds = pd.read_csv(\"../Data/corporate_stress_dataset.csv\") ##Importing the Dataset into Jupyter Notebook"
   ]
  },
  {
   "cell_type": "markdown",
   "id": "c6c96714-8ac7-44d9-920c-67a1856d4d3f",
   "metadata": {},
   "source": [
    "## ***ABOUT DATASET***"
   ]
  },
  {
   "cell_type": "markdown",
   "id": "21c2e547-e6b7-479d-95ff-7075a20d3e43",
   "metadata": {},
   "source": [
    "### **Dataset Description**"
   ]
  },
  {
   "cell_type": "markdown",
   "id": "d22fe11c-d7c4-4f4f-8c41-24e054082d0f",
   "metadata": {},
   "source": [
    "- This Corporate Stress Dataset contains information about employee stress levels in different departments of a company. It includes data on stress levels, department names, dates, and possibly other factors that may affect workplace stress. The dataset can help identify which departments have the most stress, how stress changes over time, and possible reasons behind high stress levels."
   ]
  },
  {
   "cell_type": "markdown",
   "id": "4c8e8b2a-d3de-45a6-ad56-a6fcf81a6985",
   "metadata": {},
   "source": [
    "### 1. Dataset Display"
   ]
  },
  {
   "cell_type": "code",
   "execution_count": 9,
   "id": "2f34a022-5e4b-4edf-9296-a149a7737cb4",
   "metadata": {},
   "outputs": [
    {
     "data": {
      "text/html": [
       "<div>\n",
       "<style scoped>\n",
       "    .dataframe tbody tr th:only-of-type {\n",
       "        vertical-align: middle;\n",
       "    }\n",
       "\n",
       "    .dataframe tbody tr th {\n",
       "        vertical-align: top;\n",
       "    }\n",
       "\n",
       "    .dataframe thead th {\n",
       "        text-align: right;\n",
       "    }\n",
       "</style>\n",
       "<table border=\"1\" class=\"dataframe\">\n",
       "  <thead>\n",
       "    <tr style=\"text-align: right;\">\n",
       "      <th></th>\n",
       "      <th>ID</th>\n",
       "      <th>Age</th>\n",
       "      <th>Gender</th>\n",
       "      <th>Marital_Status</th>\n",
       "      <th>Job_Role</th>\n",
       "      <th>Experience_Years</th>\n",
       "      <th>Monthly_Salary_INR</th>\n",
       "      <th>Working_Hours_per_Week</th>\n",
       "      <th>Commute_Time_Hours</th>\n",
       "      <th>Remote_Work</th>\n",
       "      <th>...</th>\n",
       "      <th>Work_Life_Balance</th>\n",
       "      <th>Family_Support_Level</th>\n",
       "      <th>Job_Satisfaction</th>\n",
       "      <th>Performance_Rating</th>\n",
       "      <th>Team_Size</th>\n",
       "      <th>Training_Opportunities</th>\n",
       "      <th>Gender_Bias_Experienced</th>\n",
       "      <th>Discrimination_Experienced</th>\n",
       "      <th>Burnout_Symptoms</th>\n",
       "      <th>Location</th>\n",
       "    </tr>\n",
       "  </thead>\n",
       "  <tbody>\n",
       "    <tr>\n",
       "      <th>0</th>\n",
       "      <td>1</td>\n",
       "      <td>56</td>\n",
       "      <td>Non-Binary</td>\n",
       "      <td>Widowed</td>\n",
       "      <td>Developer</td>\n",
       "      <td>5</td>\n",
       "      <td>102703.08</td>\n",
       "      <td>44</td>\n",
       "      <td>1.72</td>\n",
       "      <td>True</td>\n",
       "      <td>...</td>\n",
       "      <td>9</td>\n",
       "      <td>2</td>\n",
       "      <td>5</td>\n",
       "      <td>10</td>\n",
       "      <td>38</td>\n",
       "      <td>False</td>\n",
       "      <td>True</td>\n",
       "      <td>True</td>\n",
       "      <td>No</td>\n",
       "      <td>Tier-3</td>\n",
       "    </tr>\n",
       "    <tr>\n",
       "      <th>1</th>\n",
       "      <td>2</td>\n",
       "      <td>46</td>\n",
       "      <td>Female</td>\n",
       "      <td>Single</td>\n",
       "      <td>Analyst</td>\n",
       "      <td>20</td>\n",
       "      <td>165583.91</td>\n",
       "      <td>54</td>\n",
       "      <td>0.62</td>\n",
       "      <td>True</td>\n",
       "      <td>...</td>\n",
       "      <td>9</td>\n",
       "      <td>1</td>\n",
       "      <td>10</td>\n",
       "      <td>9</td>\n",
       "      <td>72</td>\n",
       "      <td>True</td>\n",
       "      <td>True</td>\n",
       "      <td>True</td>\n",
       "      <td>No</td>\n",
       "      <td>Tier-3</td>\n",
       "    </tr>\n",
       "    <tr>\n",
       "      <th>2</th>\n",
       "      <td>3</td>\n",
       "      <td>32</td>\n",
       "      <td>Female</td>\n",
       "      <td>Single</td>\n",
       "      <td>Developer</td>\n",
       "      <td>10</td>\n",
       "      <td>38005.39</td>\n",
       "      <td>81</td>\n",
       "      <td>1.22</td>\n",
       "      <td>False</td>\n",
       "      <td>...</td>\n",
       "      <td>6</td>\n",
       "      <td>1</td>\n",
       "      <td>1</td>\n",
       "      <td>1</td>\n",
       "      <td>67</td>\n",
       "      <td>False</td>\n",
       "      <td>False</td>\n",
       "      <td>False</td>\n",
       "      <td>Yes</td>\n",
       "      <td>Metro</td>\n",
       "    </tr>\n",
       "    <tr>\n",
       "      <th>3</th>\n",
       "      <td>4</td>\n",
       "      <td>60</td>\n",
       "      <td>Female</td>\n",
       "      <td>Divorced</td>\n",
       "      <td>Analyst</td>\n",
       "      <td>26</td>\n",
       "      <td>51127.36</td>\n",
       "      <td>79</td>\n",
       "      <td>2.03</td>\n",
       "      <td>False</td>\n",
       "      <td>...</td>\n",
       "      <td>8</td>\n",
       "      <td>10</td>\n",
       "      <td>5</td>\n",
       "      <td>10</td>\n",
       "      <td>98</td>\n",
       "      <td>True</td>\n",
       "      <td>True</td>\n",
       "      <td>False</td>\n",
       "      <td>Yes</td>\n",
       "      <td>Metro</td>\n",
       "    </tr>\n",
       "    <tr>\n",
       "      <th>4</th>\n",
       "      <td>5</td>\n",
       "      <td>25</td>\n",
       "      <td>Male</td>\n",
       "      <td>Married</td>\n",
       "      <td>Sales</td>\n",
       "      <td>29</td>\n",
       "      <td>174597.45</td>\n",
       "      <td>63</td>\n",
       "      <td>1.45</td>\n",
       "      <td>True</td>\n",
       "      <td>...</td>\n",
       "      <td>3</td>\n",
       "      <td>1</td>\n",
       "      <td>9</td>\n",
       "      <td>2</td>\n",
       "      <td>85</td>\n",
       "      <td>True</td>\n",
       "      <td>False</td>\n",
       "      <td>False</td>\n",
       "      <td>No</td>\n",
       "      <td>Tier-1</td>\n",
       "    </tr>\n",
       "  </tbody>\n",
       "</table>\n",
       "<p>5 rows × 30 columns</p>\n",
       "</div>"
      ],
      "text/plain": [
       "   ID  Age      Gender Marital_Status   Job_Role  Experience_Years  \\\n",
       "0   1   56  Non-Binary        Widowed  Developer                 5   \n",
       "1   2   46      Female         Single    Analyst                20   \n",
       "2   3   32      Female         Single  Developer                10   \n",
       "3   4   60      Female       Divorced    Analyst                26   \n",
       "4   5   25        Male        Married      Sales                29   \n",
       "\n",
       "   Monthly_Salary_INR  Working_Hours_per_Week  Commute_Time_Hours  \\\n",
       "0           102703.08                      44                1.72   \n",
       "1           165583.91                      54                0.62   \n",
       "2            38005.39                      81                1.22   \n",
       "3            51127.36                      79                2.03   \n",
       "4           174597.45                      63                1.45   \n",
       "\n",
       "   Remote_Work  ...  Work_Life_Balance Family_Support_Level Job_Satisfaction  \\\n",
       "0         True  ...                  9                    2                5   \n",
       "1         True  ...                  9                    1               10   \n",
       "2        False  ...                  6                    1                1   \n",
       "3        False  ...                  8                   10                5   \n",
       "4         True  ...                  3                    1                9   \n",
       "\n",
       "  Performance_Rating  Team_Size  Training_Opportunities  \\\n",
       "0                 10         38                   False   \n",
       "1                  9         72                    True   \n",
       "2                  1         67                   False   \n",
       "3                 10         98                    True   \n",
       "4                  2         85                    True   \n",
       "\n",
       "   Gender_Bias_Experienced  Discrimination_Experienced  Burnout_Symptoms  \\\n",
       "0                     True                        True                No   \n",
       "1                     True                        True                No   \n",
       "2                    False                       False               Yes   \n",
       "3                     True                       False               Yes   \n",
       "4                    False                       False                No   \n",
       "\n",
       "   Location  \n",
       "0    Tier-3  \n",
       "1    Tier-3  \n",
       "2     Metro  \n",
       "3     Metro  \n",
       "4    Tier-1  \n",
       "\n",
       "[5 rows x 30 columns]"
      ]
     },
     "execution_count": 9,
     "metadata": {},
     "output_type": "execute_result"
    }
   ],
   "source": [
    "csds.head() ##Displays Dataset"
   ]
  },
  {
   "cell_type": "markdown",
   "id": "a82ce0e2-e05f-49fb-934c-92216ad8f567",
   "metadata": {},
   "source": [
    "### 2. Dataset Information"
   ]
  },
  {
   "cell_type": "code",
   "execution_count": 11,
   "id": "75a43279-a4df-4ea0-9d4a-7ab133ad2687",
   "metadata": {},
   "outputs": [
    {
     "name": "stdout",
     "output_type": "stream",
     "text": [
      "<class 'pandas.core.frame.DataFrame'>\n",
      "RangeIndex: 50000 entries, 0 to 49999\n",
      "Data columns (total 30 columns):\n",
      " #   Column                            Non-Null Count  Dtype  \n",
      "---  ------                            --------------  -----  \n",
      " 0   ID                                50000 non-null  int64  \n",
      " 1   Age                               50000 non-null  int64  \n",
      " 2   Gender                            50000 non-null  object \n",
      " 3   Marital_Status                    50000 non-null  object \n",
      " 4   Job_Role                          50000 non-null  object \n",
      " 5   Experience_Years                  50000 non-null  int64  \n",
      " 6   Monthly_Salary_INR                50000 non-null  float64\n",
      " 7   Working_Hours_per_Week            50000 non-null  int64  \n",
      " 8   Commute_Time_Hours                50000 non-null  float64\n",
      " 9   Remote_Work                       50000 non-null  bool   \n",
      " 10  Stress_Level                      50000 non-null  int64  \n",
      " 11  Health_Issues                     37459 non-null  object \n",
      " 12  Company_Size                      50000 non-null  object \n",
      " 13  Department                        50000 non-null  object \n",
      " 14  Sleep_Hours                       50000 non-null  float64\n",
      " 15  Physical_Activity_Hours_per_Week  50000 non-null  float64\n",
      " 16  Mental_Health_Leave_Taken         50000 non-null  bool   \n",
      " 17  Manager_Support_Level             50000 non-null  int64  \n",
      " 18  Work_Pressure_Level               50000 non-null  int64  \n",
      " 19  Annual_Leaves_Taken               50000 non-null  int64  \n",
      " 20  Work_Life_Balance                 50000 non-null  int64  \n",
      " 21  Family_Support_Level              50000 non-null  int64  \n",
      " 22  Job_Satisfaction                  50000 non-null  int64  \n",
      " 23  Performance_Rating                50000 non-null  int64  \n",
      " 24  Team_Size                         50000 non-null  int64  \n",
      " 25  Training_Opportunities            50000 non-null  bool   \n",
      " 26  Gender_Bias_Experienced           50000 non-null  bool   \n",
      " 27  Discrimination_Experienced        50000 non-null  bool   \n",
      " 28  Burnout_Symptoms                  50000 non-null  object \n",
      " 29  Location                          50000 non-null  object \n",
      "dtypes: bool(5), float64(4), int64(13), object(8)\n",
      "memory usage: 9.8+ MB\n"
     ]
    }
   ],
   "source": [
    "csds.info() ##Shows information about dataset"
   ]
  },
  {
   "cell_type": "markdown",
   "id": "e59ed339-c24f-454d-acc8-33593ff94931",
   "metadata": {},
   "source": [
    "### 3. Dataset Stats"
   ]
  },
  {
   "cell_type": "code",
   "execution_count": 13,
   "id": "f893b0da-8749-4583-aa0f-904f3fe4a240",
   "metadata": {},
   "outputs": [
    {
     "data": {
      "text/html": [
       "<div>\n",
       "<style scoped>\n",
       "    .dataframe tbody tr th:only-of-type {\n",
       "        vertical-align: middle;\n",
       "    }\n",
       "\n",
       "    .dataframe tbody tr th {\n",
       "        vertical-align: top;\n",
       "    }\n",
       "\n",
       "    .dataframe thead th {\n",
       "        text-align: right;\n",
       "    }\n",
       "</style>\n",
       "<table border=\"1\" class=\"dataframe\">\n",
       "  <thead>\n",
       "    <tr style=\"text-align: right;\">\n",
       "      <th></th>\n",
       "      <th>ID</th>\n",
       "      <th>Age</th>\n",
       "      <th>Gender</th>\n",
       "      <th>Marital_Status</th>\n",
       "      <th>Job_Role</th>\n",
       "      <th>Experience_Years</th>\n",
       "      <th>Monthly_Salary_INR</th>\n",
       "      <th>Working_Hours_per_Week</th>\n",
       "      <th>Commute_Time_Hours</th>\n",
       "      <th>Remote_Work</th>\n",
       "      <th>...</th>\n",
       "      <th>Work_Life_Balance</th>\n",
       "      <th>Family_Support_Level</th>\n",
       "      <th>Job_Satisfaction</th>\n",
       "      <th>Performance_Rating</th>\n",
       "      <th>Team_Size</th>\n",
       "      <th>Training_Opportunities</th>\n",
       "      <th>Gender_Bias_Experienced</th>\n",
       "      <th>Discrimination_Experienced</th>\n",
       "      <th>Burnout_Symptoms</th>\n",
       "      <th>Location</th>\n",
       "    </tr>\n",
       "  </thead>\n",
       "  <tbody>\n",
       "    <tr>\n",
       "      <th>count</th>\n",
       "      <td>50000.00</td>\n",
       "      <td>50000.00</td>\n",
       "      <td>50000</td>\n",
       "      <td>50000</td>\n",
       "      <td>50000</td>\n",
       "      <td>50000.00</td>\n",
       "      <td>50000.00</td>\n",
       "      <td>50000.00</td>\n",
       "      <td>50000.00</td>\n",
       "      <td>50000</td>\n",
       "      <td>...</td>\n",
       "      <td>50000.00</td>\n",
       "      <td>50000.00</td>\n",
       "      <td>50000.00</td>\n",
       "      <td>50000.00</td>\n",
       "      <td>50000.00</td>\n",
       "      <td>50000</td>\n",
       "      <td>50000</td>\n",
       "      <td>50000</td>\n",
       "      <td>50000</td>\n",
       "      <td>50000</td>\n",
       "    </tr>\n",
       "    <tr>\n",
       "      <th>unique</th>\n",
       "      <td>NaN</td>\n",
       "      <td>NaN</td>\n",
       "      <td>3</td>\n",
       "      <td>4</td>\n",
       "      <td>6</td>\n",
       "      <td>NaN</td>\n",
       "      <td>NaN</td>\n",
       "      <td>NaN</td>\n",
       "      <td>NaN</td>\n",
       "      <td>2</td>\n",
       "      <td>...</td>\n",
       "      <td>NaN</td>\n",
       "      <td>NaN</td>\n",
       "      <td>NaN</td>\n",
       "      <td>NaN</td>\n",
       "      <td>NaN</td>\n",
       "      <td>2</td>\n",
       "      <td>2</td>\n",
       "      <td>2</td>\n",
       "      <td>3</td>\n",
       "      <td>4</td>\n",
       "    </tr>\n",
       "    <tr>\n",
       "      <th>top</th>\n",
       "      <td>NaN</td>\n",
       "      <td>NaN</td>\n",
       "      <td>Female</td>\n",
       "      <td>Single</td>\n",
       "      <td>Manager</td>\n",
       "      <td>NaN</td>\n",
       "      <td>NaN</td>\n",
       "      <td>NaN</td>\n",
       "      <td>NaN</td>\n",
       "      <td>True</td>\n",
       "      <td>...</td>\n",
       "      <td>NaN</td>\n",
       "      <td>NaN</td>\n",
       "      <td>NaN</td>\n",
       "      <td>NaN</td>\n",
       "      <td>NaN</td>\n",
       "      <td>False</td>\n",
       "      <td>True</td>\n",
       "      <td>False</td>\n",
       "      <td>Occasional</td>\n",
       "      <td>Tier-2</td>\n",
       "    </tr>\n",
       "    <tr>\n",
       "      <th>freq</th>\n",
       "      <td>NaN</td>\n",
       "      <td>NaN</td>\n",
       "      <td>16769</td>\n",
       "      <td>12569</td>\n",
       "      <td>8465</td>\n",
       "      <td>NaN</td>\n",
       "      <td>NaN</td>\n",
       "      <td>NaN</td>\n",
       "      <td>NaN</td>\n",
       "      <td>25234</td>\n",
       "      <td>...</td>\n",
       "      <td>NaN</td>\n",
       "      <td>NaN</td>\n",
       "      <td>NaN</td>\n",
       "      <td>NaN</td>\n",
       "      <td>NaN</td>\n",
       "      <td>25091</td>\n",
       "      <td>25155</td>\n",
       "      <td>25139</td>\n",
       "      <td>16677</td>\n",
       "      <td>12524</td>\n",
       "    </tr>\n",
       "    <tr>\n",
       "      <th>mean</th>\n",
       "      <td>25000.50</td>\n",
       "      <td>41.52</td>\n",
       "      <td>NaN</td>\n",
       "      <td>NaN</td>\n",
       "      <td>NaN</td>\n",
       "      <td>20.07</td>\n",
       "      <td>110129.93</td>\n",
       "      <td>62.54</td>\n",
       "      <td>1.50</td>\n",
       "      <td>NaN</td>\n",
       "      <td>...</td>\n",
       "      <td>5.00</td>\n",
       "      <td>4.99</td>\n",
       "      <td>4.98</td>\n",
       "      <td>5.01</td>\n",
       "      <td>50.50</td>\n",
       "      <td>NaN</td>\n",
       "      <td>NaN</td>\n",
       "      <td>NaN</td>\n",
       "      <td>NaN</td>\n",
       "      <td>NaN</td>\n",
       "    </tr>\n",
       "    <tr>\n",
       "      <th>std</th>\n",
       "      <td>14433.90</td>\n",
       "      <td>13.83</td>\n",
       "      <td>NaN</td>\n",
       "      <td>NaN</td>\n",
       "      <td>NaN</td>\n",
       "      <td>11.84</td>\n",
       "      <td>52069.68</td>\n",
       "      <td>16.17</td>\n",
       "      <td>0.87</td>\n",
       "      <td>NaN</td>\n",
       "      <td>...</td>\n",
       "      <td>3.17</td>\n",
       "      <td>3.16</td>\n",
       "      <td>3.16</td>\n",
       "      <td>3.18</td>\n",
       "      <td>28.89</td>\n",
       "      <td>NaN</td>\n",
       "      <td>NaN</td>\n",
       "      <td>NaN</td>\n",
       "      <td>NaN</td>\n",
       "      <td>NaN</td>\n",
       "    </tr>\n",
       "    <tr>\n",
       "      <th>min</th>\n",
       "      <td>1.00</td>\n",
       "      <td>18.00</td>\n",
       "      <td>NaN</td>\n",
       "      <td>NaN</td>\n",
       "      <td>NaN</td>\n",
       "      <td>0.00</td>\n",
       "      <td>20001.96</td>\n",
       "      <td>35.00</td>\n",
       "      <td>0.00</td>\n",
       "      <td>NaN</td>\n",
       "      <td>...</td>\n",
       "      <td>0.00</td>\n",
       "      <td>0.00</td>\n",
       "      <td>0.00</td>\n",
       "      <td>0.00</td>\n",
       "      <td>1.00</td>\n",
       "      <td>NaN</td>\n",
       "      <td>NaN</td>\n",
       "      <td>NaN</td>\n",
       "      <td>NaN</td>\n",
       "      <td>NaN</td>\n",
       "    </tr>\n",
       "    <tr>\n",
       "      <th>25%</th>\n",
       "      <td>12500.75</td>\n",
       "      <td>30.00</td>\n",
       "      <td>NaN</td>\n",
       "      <td>NaN</td>\n",
       "      <td>NaN</td>\n",
       "      <td>10.00</td>\n",
       "      <td>64875.49</td>\n",
       "      <td>49.00</td>\n",
       "      <td>0.74</td>\n",
       "      <td>NaN</td>\n",
       "      <td>...</td>\n",
       "      <td>2.00</td>\n",
       "      <td>2.00</td>\n",
       "      <td>2.00</td>\n",
       "      <td>2.00</td>\n",
       "      <td>25.00</td>\n",
       "      <td>NaN</td>\n",
       "      <td>NaN</td>\n",
       "      <td>NaN</td>\n",
       "      <td>NaN</td>\n",
       "      <td>NaN</td>\n",
       "    </tr>\n",
       "    <tr>\n",
       "      <th>50%</th>\n",
       "      <td>25000.50</td>\n",
       "      <td>41.00</td>\n",
       "      <td>NaN</td>\n",
       "      <td>NaN</td>\n",
       "      <td>NaN</td>\n",
       "      <td>20.00</td>\n",
       "      <td>110168.20</td>\n",
       "      <td>62.00</td>\n",
       "      <td>1.50</td>\n",
       "      <td>NaN</td>\n",
       "      <td>...</td>\n",
       "      <td>5.00</td>\n",
       "      <td>5.00</td>\n",
       "      <td>5.00</td>\n",
       "      <td>5.00</td>\n",
       "      <td>51.00</td>\n",
       "      <td>NaN</td>\n",
       "      <td>NaN</td>\n",
       "      <td>NaN</td>\n",
       "      <td>NaN</td>\n",
       "      <td>NaN</td>\n",
       "    </tr>\n",
       "    <tr>\n",
       "      <th>75%</th>\n",
       "      <td>37500.25</td>\n",
       "      <td>54.00</td>\n",
       "      <td>NaN</td>\n",
       "      <td>NaN</td>\n",
       "      <td>NaN</td>\n",
       "      <td>30.00</td>\n",
       "      <td>155322.66</td>\n",
       "      <td>77.00</td>\n",
       "      <td>2.25</td>\n",
       "      <td>NaN</td>\n",
       "      <td>...</td>\n",
       "      <td>8.00</td>\n",
       "      <td>8.00</td>\n",
       "      <td>8.00</td>\n",
       "      <td>8.00</td>\n",
       "      <td>75.00</td>\n",
       "      <td>NaN</td>\n",
       "      <td>NaN</td>\n",
       "      <td>NaN</td>\n",
       "      <td>NaN</td>\n",
       "      <td>NaN</td>\n",
       "    </tr>\n",
       "    <tr>\n",
       "      <th>max</th>\n",
       "      <td>50000.00</td>\n",
       "      <td>65.00</td>\n",
       "      <td>NaN</td>\n",
       "      <td>NaN</td>\n",
       "      <td>NaN</td>\n",
       "      <td>40.00</td>\n",
       "      <td>199992.80</td>\n",
       "      <td>90.00</td>\n",
       "      <td>3.00</td>\n",
       "      <td>NaN</td>\n",
       "      <td>...</td>\n",
       "      <td>10.00</td>\n",
       "      <td>10.00</td>\n",
       "      <td>10.00</td>\n",
       "      <td>10.00</td>\n",
       "      <td>100.00</td>\n",
       "      <td>NaN</td>\n",
       "      <td>NaN</td>\n",
       "      <td>NaN</td>\n",
       "      <td>NaN</td>\n",
       "      <td>NaN</td>\n",
       "    </tr>\n",
       "  </tbody>\n",
       "</table>\n",
       "<p>11 rows × 30 columns</p>\n",
       "</div>"
      ],
      "text/plain": [
       "              ID       Age  Gender Marital_Status Job_Role  Experience_Years  \\\n",
       "count   50000.00  50000.00   50000          50000    50000          50000.00   \n",
       "unique       NaN       NaN       3              4        6               NaN   \n",
       "top          NaN       NaN  Female         Single  Manager               NaN   \n",
       "freq         NaN       NaN   16769          12569     8465               NaN   \n",
       "mean    25000.50     41.52     NaN            NaN      NaN             20.07   \n",
       "std     14433.90     13.83     NaN            NaN      NaN             11.84   \n",
       "min         1.00     18.00     NaN            NaN      NaN              0.00   \n",
       "25%     12500.75     30.00     NaN            NaN      NaN             10.00   \n",
       "50%     25000.50     41.00     NaN            NaN      NaN             20.00   \n",
       "75%     37500.25     54.00     NaN            NaN      NaN             30.00   \n",
       "max     50000.00     65.00     NaN            NaN      NaN             40.00   \n",
       "\n",
       "        Monthly_Salary_INR  Working_Hours_per_Week  Commute_Time_Hours  \\\n",
       "count             50000.00                50000.00            50000.00   \n",
       "unique                 NaN                     NaN                 NaN   \n",
       "top                    NaN                     NaN                 NaN   \n",
       "freq                   NaN                     NaN                 NaN   \n",
       "mean             110129.93                   62.54                1.50   \n",
       "std               52069.68                   16.17                0.87   \n",
       "min               20001.96                   35.00                0.00   \n",
       "25%               64875.49                   49.00                0.74   \n",
       "50%              110168.20                   62.00                1.50   \n",
       "75%              155322.66                   77.00                2.25   \n",
       "max              199992.80                   90.00                3.00   \n",
       "\n",
       "       Remote_Work  ...  Work_Life_Balance Family_Support_Level  \\\n",
       "count        50000  ...           50000.00             50000.00   \n",
       "unique           2  ...                NaN                  NaN   \n",
       "top           True  ...                NaN                  NaN   \n",
       "freq         25234  ...                NaN                  NaN   \n",
       "mean           NaN  ...               5.00                 4.99   \n",
       "std            NaN  ...               3.17                 3.16   \n",
       "min            NaN  ...               0.00                 0.00   \n",
       "25%            NaN  ...               2.00                 2.00   \n",
       "50%            NaN  ...               5.00                 5.00   \n",
       "75%            NaN  ...               8.00                 8.00   \n",
       "max            NaN  ...              10.00                10.00   \n",
       "\n",
       "       Job_Satisfaction Performance_Rating  Team_Size  Training_Opportunities  \\\n",
       "count          50000.00           50000.00   50000.00                   50000   \n",
       "unique              NaN                NaN        NaN                       2   \n",
       "top                 NaN                NaN        NaN                   False   \n",
       "freq                NaN                NaN        NaN                   25091   \n",
       "mean               4.98               5.01      50.50                     NaN   \n",
       "std                3.16               3.18      28.89                     NaN   \n",
       "min                0.00               0.00       1.00                     NaN   \n",
       "25%                2.00               2.00      25.00                     NaN   \n",
       "50%                5.00               5.00      51.00                     NaN   \n",
       "75%                8.00               8.00      75.00                     NaN   \n",
       "max               10.00              10.00     100.00                     NaN   \n",
       "\n",
       "       Gender_Bias_Experienced  Discrimination_Experienced  Burnout_Symptoms  \\\n",
       "count                    50000                       50000             50000   \n",
       "unique                       2                           2                 3   \n",
       "top                       True                       False        Occasional   \n",
       "freq                     25155                       25139             16677   \n",
       "mean                       NaN                         NaN               NaN   \n",
       "std                        NaN                         NaN               NaN   \n",
       "min                        NaN                         NaN               NaN   \n",
       "25%                        NaN                         NaN               NaN   \n",
       "50%                        NaN                         NaN               NaN   \n",
       "75%                        NaN                         NaN               NaN   \n",
       "max                        NaN                         NaN               NaN   \n",
       "\n",
       "        Location  \n",
       "count      50000  \n",
       "unique         4  \n",
       "top       Tier-2  \n",
       "freq       12524  \n",
       "mean         NaN  \n",
       "std          NaN  \n",
       "min          NaN  \n",
       "25%          NaN  \n",
       "50%          NaN  \n",
       "75%          NaN  \n",
       "max          NaN  \n",
       "\n",
       "[11 rows x 30 columns]"
      ]
     },
     "execution_count": 13,
     "metadata": {},
     "output_type": "execute_result"
    }
   ],
   "source": [
    "csds.describe(include = \"all\").round(2) ##Shows the Stats about the Dataset"
   ]
  },
  {
   "cell_type": "markdown",
   "id": "7d51aca1-664b-454b-a9c3-828c669f80b0",
   "metadata": {},
   "source": [
    "### 4. Dataset NA counts"
   ]
  },
  {
   "cell_type": "code",
   "execution_count": 15,
   "id": "469b2bcb-d8c3-457c-9f7c-dbef15df8818",
   "metadata": {},
   "outputs": [
    {
     "data": {
      "text/plain": [
       "ID                                      0\n",
       "Age                                     0\n",
       "Gender                                  0\n",
       "Marital_Status                          0\n",
       "Job_Role                                0\n",
       "Experience_Years                        0\n",
       "Monthly_Salary_INR                      0\n",
       "Working_Hours_per_Week                  0\n",
       "Commute_Time_Hours                      0\n",
       "Remote_Work                             0\n",
       "Stress_Level                            0\n",
       "Health_Issues                       12541\n",
       "Company_Size                            0\n",
       "Department                              0\n",
       "Sleep_Hours                             0\n",
       "Physical_Activity_Hours_per_Week        0\n",
       "Mental_Health_Leave_Taken               0\n",
       "Manager_Support_Level                   0\n",
       "Work_Pressure_Level                     0\n",
       "Annual_Leaves_Taken                     0\n",
       "Work_Life_Balance                       0\n",
       "Family_Support_Level                    0\n",
       "Job_Satisfaction                        0\n",
       "Performance_Rating                      0\n",
       "Team_Size                               0\n",
       "Training_Opportunities                  0\n",
       "Gender_Bias_Experienced                 0\n",
       "Discrimination_Experienced              0\n",
       "Burnout_Symptoms                        0\n",
       "Location                                0\n",
       "dtype: int64"
      ]
     },
     "execution_count": 15,
     "metadata": {},
     "output_type": "execute_result"
    }
   ],
   "source": [
    "csds.isna().sum() ##Sums all the NA in each column"
   ]
  },
  {
   "cell_type": "markdown",
   "id": "e1a7b4dc-3657-4d9b-bfeb-b13e48a53966",
   "metadata": {},
   "source": [
    "### 5. Dataset Duplicates Counts"
   ]
  },
  {
   "cell_type": "code",
   "execution_count": 17,
   "id": "3058ee73-589c-404f-a747-a5bd6940d272",
   "metadata": {},
   "outputs": [
    {
     "data": {
      "text/plain": [
       "0"
      ]
     },
     "execution_count": 17,
     "metadata": {},
     "output_type": "execute_result"
    }
   ],
   "source": [
    "csds.duplicated().sum() ##Sums all dubplicated value"
   ]
  },
  {
   "cell_type": "markdown",
   "id": "d9ab0599-f4fd-4403-b5d7-c5add3128ec5",
   "metadata": {},
   "source": [
    "## ***SUMMARIES***"
   ]
  },
  {
   "cell_type": "markdown",
   "id": "afb513a8-3bc1-4234-81bc-932c0e5a69c5",
   "metadata": {},
   "source": [
    "### 1. Average Job Satisfaction by Job Role"
   ]
  },
  {
   "cell_type": "code",
   "execution_count": 20,
   "id": "90853a62-e958-4b20-b104-8be9e73ab64b",
   "metadata": {},
   "outputs": [
    {
     "data": {
      "text/plain": [
       "Job_Role\n",
       "Analyst      4.93\n",
       "Developer    4.98\n",
       "HR           5.03\n",
       "Manager      5.02\n",
       "Sales        4.98\n",
       "Support      4.97\n",
       "Name: Job_Satisfaction, dtype: float64"
      ]
     },
     "execution_count": 20,
     "metadata": {},
     "output_type": "execute_result"
    }
   ],
   "source": [
    "csds.groupby(\"Job_Role\")[\"Job_Satisfaction\"].mean().round(2)"
   ]
  },
  {
   "cell_type": "markdown",
   "id": "21fd6c2b-f9e5-41da-9a09-1670c7ed40be",
   "metadata": {},
   "source": [
    "### 2. Average Weekly Work Hours Per Job Role"
   ]
  },
  {
   "cell_type": "code",
   "execution_count": 22,
   "id": "f030ccbb-378c-473e-b48d-6abf7cb7220c",
   "metadata": {},
   "outputs": [
    {
     "data": {
      "text/plain": [
       "Job_Role\n",
       "Analyst      62.55\n",
       "Developer    62.65\n",
       "HR           62.64\n",
       "Manager      62.54\n",
       "Sales        62.43\n",
       "Support      62.42\n",
       "Name: Working_Hours_per_Week, dtype: float64"
      ]
     },
     "execution_count": 22,
     "metadata": {},
     "output_type": "execute_result"
    }
   ],
   "source": [
    "csds.groupby(\"Job_Role\")[\"Working_Hours_per_Week\"].mean().round(2)"
   ]
  },
  {
   "cell_type": "markdown",
   "id": "fb916a1a-3aea-4587-aa4f-b3c785daa18a",
   "metadata": {},
   "source": [
    "### 3. Burnout Symptoms Distribution by Job Role"
   ]
  },
  {
   "cell_type": "code",
   "execution_count": 24,
   "id": "48312e69-22de-4b4e-9802-43ecf7ce7cf1",
   "metadata": {},
   "outputs": [
    {
     "data": {
      "text/html": [
       "<div>\n",
       "<style scoped>\n",
       "    .dataframe tbody tr th:only-of-type {\n",
       "        vertical-align: middle;\n",
       "    }\n",
       "\n",
       "    .dataframe tbody tr th {\n",
       "        vertical-align: top;\n",
       "    }\n",
       "\n",
       "    .dataframe thead th {\n",
       "        text-align: right;\n",
       "    }\n",
       "</style>\n",
       "<table border=\"1\" class=\"dataframe\">\n",
       "  <thead>\n",
       "    <tr style=\"text-align: right;\">\n",
       "      <th>Burnout_Symptoms</th>\n",
       "      <th>No</th>\n",
       "      <th>Occasional</th>\n",
       "      <th>Yes</th>\n",
       "    </tr>\n",
       "    <tr>\n",
       "      <th>Job_Role</th>\n",
       "      <th></th>\n",
       "      <th></th>\n",
       "      <th></th>\n",
       "    </tr>\n",
       "  </thead>\n",
       "  <tbody>\n",
       "    <tr>\n",
       "      <th>Analyst</th>\n",
       "      <td>2843</td>\n",
       "      <td>2777</td>\n",
       "      <td>2715</td>\n",
       "    </tr>\n",
       "    <tr>\n",
       "      <th>Developer</th>\n",
       "      <td>2741</td>\n",
       "      <td>2788</td>\n",
       "      <td>2839</td>\n",
       "    </tr>\n",
       "    <tr>\n",
       "      <th>HR</th>\n",
       "      <td>2749</td>\n",
       "      <td>2832</td>\n",
       "      <td>2693</td>\n",
       "    </tr>\n",
       "    <tr>\n",
       "      <th>Manager</th>\n",
       "      <td>2805</td>\n",
       "      <td>2777</td>\n",
       "      <td>2883</td>\n",
       "    </tr>\n",
       "    <tr>\n",
       "      <th>Sales</th>\n",
       "      <td>2801</td>\n",
       "      <td>2779</td>\n",
       "      <td>2796</td>\n",
       "    </tr>\n",
       "    <tr>\n",
       "      <th>Support</th>\n",
       "      <td>2723</td>\n",
       "      <td>2724</td>\n",
       "      <td>2735</td>\n",
       "    </tr>\n",
       "  </tbody>\n",
       "</table>\n",
       "</div>"
      ],
      "text/plain": [
       "Burnout_Symptoms    No  Occasional   Yes\n",
       "Job_Role                                \n",
       "Analyst           2843        2777  2715\n",
       "Developer         2741        2788  2839\n",
       "HR                2749        2832  2693\n",
       "Manager           2805        2777  2883\n",
       "Sales             2801        2779  2796\n",
       "Support           2723        2724  2735"
      ]
     },
     "execution_count": 24,
     "metadata": {},
     "output_type": "execute_result"
    }
   ],
   "source": [
    "csds.groupby(\"Job_Role\")[\"Burnout_Symptoms\"].value_counts().unstack()"
   ]
  },
  {
   "cell_type": "markdown",
   "id": "5ce59bdc-4f36-410b-8a1e-ea2b1ab23309",
   "metadata": {},
   "source": [
    "## ***VISUALS***"
   ]
  },
  {
   "cell_type": "markdown",
   "id": "5e7c52a2-28ee-4336-af7c-48a757441b0a",
   "metadata": {},
   "source": [
    "### 1. Overall Burnout Symptoms Distribution"
   ]
  },
  {
   "cell_type": "code",
   "execution_count": 27,
   "id": "a1903682-d524-49bc-b835-330cbfeba6be",
   "metadata": {},
   "outputs": [
    {
     "data": {
      "image/png": "[encoded data removed]",
      "text/plain": [
       "<Figure size 800x600 with 1 Axes>"
      ]
     },
     "metadata": {},
     "output_type": "display_data"
    }
   ],
   "source": [
    "# Create pie chart\n",
    "plt.figure(figsize=(8,6))\n",
    "csds[\"Burnout_Symptoms\"].value_counts().plot(kind=\"pie\", autopct='%1.1f%%', startangle=90, colors=[\"blue\", \"green\", \"purple\"])\n",
    "plt.title(\"Overall Burnout Symptoms Distribution\") # Titles\n",
    "plt.ylabel(\"\")  # Hide y-label for better visibility\n",
    "plt.show() # Show plot"
   ]
  },
  {
   "cell_type": "markdown",
   "id": "3241177f-f25d-4917-bbcb-b401a439865e",
   "metadata": {},
   "source": [
    "### 2. Work-Life Balance Scores by Department"
   ]
  },
  {
   "cell_type": "code",
   "execution_count": 29,
   "id": "59707a34-a66b-40f9-b746-568d520b326e",
   "metadata": {},
   "outputs": [
    {
     "name": "stderr",
     "output_type": "stream",
     "text": [
      "C:\\Users\\shami\\AppData\\Local\\Temp\\ipykernel_31980\\3060307089.py:2: FutureWarning: \n",
      "\n",
      "Passing `palette` without assigning `hue` is deprecated and will be removed in v0.14.0. Assign the `x` variable to `hue` and set `legend=False` for the same effect.\n",
      "\n",
      "  sns.boxplot(data=csds, x=\"Department\", y=\"Work_Life_Balance\", palette=\"coolwarm\")\n"
     ]
    },
    {
     "data": {
      "image/png": "[encoded data removed]",
      "text/plain": [
       "<Figure size 1200x600 with 1 Axes>"
      ]
     },
     "metadata": {},
     "output_type": "display_data"
    }
   ],
   "source": [
    "plt.figure(figsize=(12,6)) # Create a boxplot\n",
    "sns.boxplot(data=csds, x=\"Department\", y=\"Work_Life_Balance\", palette=\"coolwarm\")\n",
    "plt.title(\"Work-Life Balance Scores by Department\")# Titles and labels\n",
    "plt.xlabel(\"Department\")\n",
    "plt.ylabel(\"Work-Life Balance Score\")\n",
    "plt.xticks(rotation=45)\n",
    "plt.show()# Show plot"
   ]
  },
  {
   "cell_type": "markdown",
   "id": "55010c59-918b-48aa-8e87-3a4c840ee5bc",
   "metadata": {},
   "source": [
    "### 3. Average Monthly Salary by Job Role"
   ]
  },
  {
   "cell_type": "code",
   "execution_count": 31,
   "id": "bda9825d-8cff-4879-bbe4-127576d87f5d",
   "metadata": {},
   "outputs": [
    {
     "name": "stderr",
     "output_type": "stream",
     "text": [
      "C:\\Users\\shami\\AppData\\Local\\Temp\\ipykernel_31980\\3652925640.py:3: FutureWarning: \n",
      "\n",
      "Passing `palette` without assigning `hue` is deprecated and will be removed in v0.14.0. Assign the `x` variable to `hue` and set `legend=False` for the same effect.\n",
      "\n",
      "  sns.barplot(x=avg_salary.index, y=avg_salary.values, palette=\"coolwarm\", width=0.6) # Create bar chart\n"
     ]
    },
    {
     "data": {
      "image/png": "[encoded data removed]",
      "text/plain": [
       "<Figure size 1000x600 with 1 Axes>"
      ]
     },
     "metadata": {},
     "output_type": "display_data"
    }
   ],
   "source": [
    "plt.figure(figsize=(10,6))\n",
    "avg_salary = csds.groupby(\"Job_Role\")[\"Monthly_Salary_INR\"].mean().sort_values()\n",
    "sns.barplot(x=avg_salary.index, y=avg_salary.values, palette=\"coolwarm\", width=0.6) # Create bar chart\n",
    "plt.title(\"Average Monthly Salary by Job Role\") # Titles and labels\n",
    "plt.xlabel(\"Job Role\")\n",
    "plt.ylabel(\"Average Monthly Salary (INR)\")\n",
    "plt.xticks(rotation=45)  # Rotate job role names for better readability\n",
    "plt.ylim(min(avg_salary.values) * 0.95, max(avg_salary.values) * 1.05)\n",
    "plt.show() # Show plot"
   ]
  },
  {
   "cell_type": "markdown",
   "id": "6e19870d-6dd5-4f53-b328-d885f734998c",
   "metadata": {},
   "source": [
    "## ***Understanding the Dataset***"
   ]
  },
  {
   "cell_type": "markdown",
   "id": "dac8a495-9bd8-4630-8f83-9e9b3f4b79e8",
   "metadata": {},
   "source": [
    "## Key Findings\n",
    "\n",
    "- HR and Manager roles have the highest job satisfaction, while other roles show slightly lower scores.\n",
    "- Employees work around 62 hours per week on average, which is quite high.\n",
    "- Sales and Support roles report the highest burnout cases, while Managers and HR roles have fewer cases."
   ]
  },
  {
   "cell_type": "markdown",
   "id": "ee0bd184-0af4-41e0-a53e-8a0f5ec4cf35",
   "metadata": {},
   "source": [
    "## Insights from Visuals\n",
    "\n",
    "- Evenly distributed burnout symptoms, with about 33% of employees experiencing burnout.\n",
    "- Some departments offer significantly better balance than others.\n",
    "- Some roles earn much more than others, which may impact job satisfaction."
   ]
  },
  {
   "cell_type": "markdown",
   "id": "270ab385-cffa-481c-b07e-059d9e5a2a38",
   "metadata": {},
   "source": [
    "## Conclusion\n",
    "\n",
    "1. Burnout is a major issue in certain job roles.\n",
    "2. Work-life balance is inconsistent across departments.\n",
    "3. Salary gaps could be contributing to workplace stress.\n",
    "4. Reducing excessive work hours and improving managerial support may help lower stress levels."
   ]
  },
  {
   "cell_type": "code",
   "execution_count": null,
   "id": "b8dac702-631e-4dc0-a7dc-3cf4382a6c0f",
   "metadata": {},
   "outputs": [],
   "source": []
  }
 ],
 "metadata": {
  "kernelspec": {
   "display_name": "Python 3 (ipykernel)",
   "language": "python",
   "name": "python3"
  },
  "language_info": {
   "codemirror_mode": {
    "name": "ipython",
    "version": 3
   },
   "file_extension": ".py",
   "mimetype": "text/x-python",
   "name": "python",
   "nbconvert_exporter": "python",
   "pygments_lexer": "ipython3",
   "version": "3.12.7"
  }
 },
 "nbformat": 4,
 "nbformat_minor": 5
}

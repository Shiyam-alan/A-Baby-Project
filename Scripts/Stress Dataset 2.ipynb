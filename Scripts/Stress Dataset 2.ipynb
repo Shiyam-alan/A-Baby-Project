{
 "cells": [
  {
   "cell_type": "code",
   "execution_count": 1,
   "id": "fa538c65-97f0-42c2-beb2-f8923ea2e5e8",
   "metadata": {},
   "outputs": [],
   "source": [
    "import pandas as pd #Importing required Library"
   ]
  },
  {
   "cell_type": "code",
   "execution_count": 2,
   "id": "d8eb8e01-dec5-4e47-b6c5-252b4e20e92f",
   "metadata": {},
   "outputs": [],
   "source": [
    "stress_df = pd.read_csv(\"../Data/corporate_stress_dataset.csv\") #Importing Dataset 1"
   ]
  },
  {
   "cell_type": "code",
   "execution_count": 3,
   "id": "b0e2d0f9-9ed8-4724-be0c-3c1b2189a153",
   "metadata": {},
   "outputs": [],
   "source": [
    "satisfaction_df = pd.read_csv(\"../Data/Employee Satisfaction Index.csv\") #Importing Dataset 2"
   ]
  },
  {
   "cell_type": "code",
   "execution_count": 4,
   "id": "aa439564-445b-4e63-8cef-b12a9fa80cd1",
   "metadata": {},
   "outputs": [],
   "source": [
    "satisfaction_df.rename(columns={'Dept': 'Department'}, inplace=True) #Renaming Column from 'Dept' to 'Department' to match Column Keys"
   ]
  },
  {
   "cell_type": "code",
   "execution_count": 5,
   "id": "1413a694-03a1-4c80-866f-1d596167f28a",
   "metadata": {},
   "outputs": [],
   "source": [
    "merged_df = pd.merge(satisfaction_df, stress_df, on='Department', how='inner') #Merging Both Dataset common primary key 'Department' using Inner Key"
   ]
  },
  {
   "cell_type": "markdown",
   "id": "4c9cbbf0-0b68-40e1-bd5a-22b5e6e9f92f",
   "metadata": {},
   "source": [
    "I used Inner join so only matching departments exist on both datasets. There will be no unmatched rows and only few rows will be lost on the process."
   ]
  },
  {
   "cell_type": "code",
   "execution_count": 7,
   "id": "57423494-b198-4204-a709-251cf6283063",
   "metadata": {},
   "outputs": [
    {
     "name": "stdout",
     "output_type": "stream",
     "text": [
      "   Unnamed: 0  emp_id  age Department location education recruitment_type  \\\n",
      "0           0  HR8270   28         HR   Suburb        PG         Referral   \n",
      "1           0  HR8270   28         HR   Suburb        PG         Referral   \n",
      "2           0  HR8270   28         HR   Suburb        PG         Referral   \n",
      "3           0  HR8270   28         HR   Suburb        PG         Referral   \n",
      "4           0  HR8270   28         HR   Suburb        PG         Referral   \n",
      "\n",
      "   job_level  rating  onsite  ...  Work_Life_Balance  Family_Support_Level  \\\n",
      "0          5       2       0  ...                  6                     1   \n",
      "1          5       2       0  ...                  6                     0   \n",
      "2          5       2       0  ...                  9                     2   \n",
      "3          5       2       0  ...                  7                     5   \n",
      "4          5       2       0  ...                  2                     3   \n",
      "\n",
      "   Job_Satisfaction  Performance_Rating  Team_Size  Training_Opportunities  \\\n",
      "0                 1                   1         67                   False   \n",
      "1                 7                   2         22                    True   \n",
      "2                 1                   7         93                   False   \n",
      "3                 7                   5         30                    True   \n",
      "4                10                   2         92                    True   \n",
      "\n",
      "  Gender_Bias_Experienced Discrimination_Experienced Burnout_Symptoms  \\\n",
      "0                   False                      False              Yes   \n",
      "1                    True                       True               No   \n",
      "2                    True                       True               No   \n",
      "3                    True                      False               No   \n",
      "4                    True                       True       Occasional   \n",
      "\n",
      "   Location  \n",
      "0     Metro  \n",
      "1    Tier-2  \n",
      "2    Tier-1  \n",
      "3    Tier-3  \n",
      "4    Tier-2  \n",
      "\n",
      "[5 rows x 43 columns]\n"
     ]
    }
   ],
   "source": [
    "print(merged_df.head()) #Displaying merged Dataset"
   ]
  },
  {
   "cell_type": "code",
   "execution_count": 8,
   "id": "373775cc-2268-428e-8d15-d82a59e8d27a",
   "metadata": {},
   "outputs": [
    {
     "name": "stdout",
     "output_type": "stream",
     "text": [
      "Unnamed: 0                               0\n",
      "emp_id                                   0\n",
      "age                                      0\n",
      "Department                               0\n",
      "location                                 0\n",
      "education                                0\n",
      "recruitment_type                         0\n",
      "job_level                                0\n",
      "rating                                   0\n",
      "onsite                                   0\n",
      "awards                                   0\n",
      "certifications                           0\n",
      "salary                                   0\n",
      "satisfied                                0\n",
      "ID                                       0\n",
      "Age                                      0\n",
      "Gender                                   0\n",
      "Marital_Status                           0\n",
      "Job_Role                                 0\n",
      "Experience_Years                         0\n",
      "Monthly_Salary_INR                       0\n",
      "Working_Hours_per_Week                   0\n",
      "Commute_Time_Hours                       0\n",
      "Remote_Work                              0\n",
      "Stress_Level                             0\n",
      "Health_Issues                       607481\n",
      "Company_Size                             0\n",
      "Sleep_Hours                              0\n",
      "Physical_Activity_Hours_per_Week         0\n",
      "Mental_Health_Leave_Taken                0\n",
      "Manager_Support_Level                    0\n",
      "Work_Pressure_Level                      0\n",
      "Annual_Leaves_Taken                      0\n",
      "Work_Life_Balance                        0\n",
      "Family_Support_Level                     0\n",
      "Job_Satisfaction                         0\n",
      "Performance_Rating                       0\n",
      "Team_Size                                0\n",
      "Training_Opportunities                   0\n",
      "Gender_Bias_Experienced                  0\n",
      "Discrimination_Experienced               0\n",
      "Burnout_Symptoms                         0\n",
      "Location                                 0\n",
      "dtype: int64\n"
     ]
    }
   ],
   "source": [
    "print(merged_df.isnull().sum()) #Displaying total null count"
   ]
  },
  {
   "cell_type": "code",
   "execution_count": 9,
   "id": "1872f602-59bf-4eac-b58d-c85cf2616047",
   "metadata": {},
   "outputs": [],
   "source": [
    "merged_df.drop(columns=['Health_Issues', 'Unnamed: 0'], inplace=True) #Dropping all the null"
   ]
  },
  {
   "cell_type": "code",
   "execution_count": 11,
   "id": "f8b79d7f-383c-4881-9bae-dcdd5722c753",
   "metadata": {},
   "outputs": [],
   "source": [
    "merged_df.head(10000).to_csv(\"../Clean_Data/merged_dataset_cleaned_sample.csv\", index=False)  #Exporting Merged Dataset to Clean_Data folder on Baby project folder under toddler branch"
   ]
  },
  {
   "attachments": {
    "e44c5657-4e60-4d26-b53b-3d3178054680.png": {
     "image/png": "[encoded data removed]"
    }
   },
   "cell_type": "markdown",
   "id": "d0923070-4419-4c58-adb1-1d9887e7f4ce",
   "metadata": {},
   "source": [
    "![image.png](attachment:e44c5657-4e60-4d26-b53b-3d3178054680.png)"
   ]
  },
  {
   "cell_type": "code",
   "execution_count": null,
   "id": "f5dac8cb-0cd6-414c-96fb-9a5fe62a381d",
   "metadata": {},
   "outputs": [],
   "source": []
  }
 ],
 "metadata": {
  "kernelspec": {
   "display_name": "Python 3 (ipykernel)",
   "language": "python",
   "name": "python3"
  },
  "language_info": {
   "codemirror_mode": {
    "name": "ipython",
    "version": 3
   },
   "file_extension": ".py",
   "mimetype": "text/x-python",
   "name": "python",
   "nbconvert_exporter": "python",
   "pygments_lexer": "ipython3",
   "version": "3.12.7"
  }
 },
 "nbformat": 4,
 "nbformat_minor": 5
}
